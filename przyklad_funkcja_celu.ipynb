{
 "cells": [
  {
   "cell_type": "code",
   "execution_count": 1,
   "metadata": {
    "collapsed": true,
    "pycharm": {
     "name": "#%%\n"
    }
   },
   "outputs": [],
   "source": [
    "from main import *"
   ]
  },
  {
   "cell_type": "markdown",
   "source": [
    "Wczytanie danych:"
   ],
   "metadata": {
    "collapsed": false,
    "pycharm": {
     "name": "#%% md\n"
    }
   }
  },
  {
   "cell_type": "code",
   "execution_count": 2,
   "outputs": [
    {
     "data": {
      "text/plain": "   event_id      city start_date   end_date           visitors  \\\n0         0    Kraków 2022-07-04 2022-07-06   10000,11000,9000   \n1         1  Warszawa 2022-07-05 2022-07-07  12000,30000,25000   \n2         2    Gdynia 2022-07-06 2022-07-08   8000,10000,13000   \n3         3  Szczecin 2022-07-07 2022-07-09     9000,8000,7000   \n4         4    Poznań 2022-07-08 2022-07-10  13000,12500,10000   \n5         5  Zakopane 2022-07-09 2022-07-11    7000,9000,10000   \n6         6    Kraków 2022-07-10 2022-07-11        12000,30000   \n\n   ingredient_cost parking_cost  \n0             5.34  300,200,100  \n1             4.94  300,200,100  \n2             5.50  300,200,100  \n3             4.89  300,200,100  \n4             5.40  300,200,100  \n5             5.12  250,200,100  \n6             5.05      200,100  ",
      "text/html": "<div>\n<style scoped>\n    .dataframe tbody tr th:only-of-type {\n        vertical-align: middle;\n    }\n\n    .dataframe tbody tr th {\n        vertical-align: top;\n    }\n\n    .dataframe thead th {\n        text-align: right;\n    }\n</style>\n<table border=\"1\" class=\"dataframe\">\n  <thead>\n    <tr style=\"text-align: right;\">\n      <th></th>\n      <th>event_id</th>\n      <th>city</th>\n      <th>start_date</th>\n      <th>end_date</th>\n      <th>visitors</th>\n      <th>ingredient_cost</th>\n      <th>parking_cost</th>\n    </tr>\n  </thead>\n  <tbody>\n    <tr>\n      <th>0</th>\n      <td>0</td>\n      <td>Kraków</td>\n      <td>2022-07-04</td>\n      <td>2022-07-06</td>\n      <td>10000,11000,9000</td>\n      <td>5.34</td>\n      <td>300,200,100</td>\n    </tr>\n    <tr>\n      <th>1</th>\n      <td>1</td>\n      <td>Warszawa</td>\n      <td>2022-07-05</td>\n      <td>2022-07-07</td>\n      <td>12000,30000,25000</td>\n      <td>4.94</td>\n      <td>300,200,100</td>\n    </tr>\n    <tr>\n      <th>2</th>\n      <td>2</td>\n      <td>Gdynia</td>\n      <td>2022-07-06</td>\n      <td>2022-07-08</td>\n      <td>8000,10000,13000</td>\n      <td>5.50</td>\n      <td>300,200,100</td>\n    </tr>\n    <tr>\n      <th>3</th>\n      <td>3</td>\n      <td>Szczecin</td>\n      <td>2022-07-07</td>\n      <td>2022-07-09</td>\n      <td>9000,8000,7000</td>\n      <td>4.89</td>\n      <td>300,200,100</td>\n    </tr>\n    <tr>\n      <th>4</th>\n      <td>4</td>\n      <td>Poznań</td>\n      <td>2022-07-08</td>\n      <td>2022-07-10</td>\n      <td>13000,12500,10000</td>\n      <td>5.40</td>\n      <td>300,200,100</td>\n    </tr>\n    <tr>\n      <th>5</th>\n      <td>5</td>\n      <td>Zakopane</td>\n      <td>2022-07-09</td>\n      <td>2022-07-11</td>\n      <td>7000,9000,10000</td>\n      <td>5.12</td>\n      <td>250,200,100</td>\n    </tr>\n    <tr>\n      <th>6</th>\n      <td>6</td>\n      <td>Kraków</td>\n      <td>2022-07-10</td>\n      <td>2022-07-11</td>\n      <td>12000,30000</td>\n      <td>5.05</td>\n      <td>200,100</td>\n    </tr>\n  </tbody>\n</table>\n</div>"
     },
     "execution_count": 2,
     "metadata": {},
     "output_type": "execute_result"
    }
   ],
   "source": [
    "df = pd.read_excel(\"data/example_data.xlsx\")\n",
    "event_list = load_event_list(df)\n",
    "df"
   ],
   "metadata": {
    "collapsed": false,
    "pycharm": {
     "name": "#%%\n"
    }
   }
  },
  {
   "cell_type": "markdown",
   "source": [
    "Wczytanie odległości między miastami:"
   ],
   "metadata": {
    "collapsed": false,
    "pycharm": {
     "name": "#%% md\n"
    }
   }
  },
  {
   "cell_type": "code",
   "execution_count": 3,
   "outputs": [
    {
     "name": "stdout",
     "output_type": "stream",
     "text": [
      "{'Kraków': {'Kraków': 0, 'Warszawa': 290964, 'Gdynia': 603894.3, 'Szczecin': 645792.3, 'Poznań': 453715.3, 'Zakopane': 110197.6}, 'Warszawa': {'Kraków': 290964, 'Warszawa': 0, 'Gdynia': 443132.1, 'Szczecin': 567777.7, 'Poznań': 311056.9, 'Zakopane': 399954.9}, 'Gdynia': {'Kraków': 603894.3, 'Warszawa': 443132.1, 'Gdynia': 0, 'Szczecin': 350640.8, 'Poznań': 379929.9, 'Zakopane': 742869}, 'Szczecin': {'Kraków': 645792.3, 'Warszawa': 567777.7, 'Gdynia': 350640.8, 'Szczecin': 0, 'Poznań': 264886.9, 'Zakopane': 747743.9}, 'Poznań': {'Kraków': 453715.3, 'Warszawa': 311056.9, 'Gdynia': 379929.9, 'Szczecin': 264886.9, 'Poznań': 0, 'Zakopane': 556853.5}, 'Zakopane': {'Kraków': 110197.6, 'Warszawa': 399954.9, 'Gdynia': 742869, 'Szczecin': 747743.9, 'Poznań': 556853.5, 'Zakopane': 0}}\n"
     ]
    }
   ],
   "source": [
    "# distances = driving_distances(list(df['city'].unique()))\n",
    "with open('distances.json', 'r') as fp:\n",
    "    distances = json.load(fp)\n",
    "print(distances)"
   ],
   "metadata": {
    "collapsed": false,
    "pycharm": {
     "name": "#%%\n"
    }
   }
  },
  {
   "cell_type": "markdown",
   "source": [
    "Przykładowe rozwiązanie:"
   ],
   "metadata": {
    "collapsed": false,
    "pycharm": {
     "name": "#%% md\n"
    }
   }
  },
  {
   "cell_type": "code",
   "execution_count": 4,
   "outputs": [
    {
     "name": "stdout",
     "output_type": "stream",
     "text": [
      "event_id = 0, city = Kraków, stay_duration = 2, ingredients_bought = 6000\n",
      "event_id = 1, city = Warszawa, stay_duration = 1, ingredients_bought = 2400\n",
      "event_id = 2, city = Gdynia, stay_duration = 1, ingredients_bought = 1600\n",
      "event_id = 3, city = Szczecin, stay_duration = 2, ingredients_bought = 5000\n"
     ]
    }
   ],
   "source": [
    "start_date = datetime(2022, 7, 4)\n",
    "end_date = datetime(2022, 7, 12)\n",
    "\n",
    "solution_list = []\n",
    "solution_list.append(SolutionElement(0, 2, 6000, **event_list[0].attributes))\n",
    "solution_list.append(SolutionElement(1, 1, 2400, **event_list[1].attributes))\n",
    "solution_list.append(SolutionElement(2, 1, 1600, **event_list[2].attributes))\n",
    "solution_list.append(SolutionElement(3, 2, 5000, **event_list[3].attributes))\n",
    "\n",
    "solution = Solution(solution_list, distances, start_date, end_date, 'Kraków')\n",
    "for element in solution_list:\n",
    "    print(element)"
   ],
   "metadata": {
    "collapsed": false,
    "pycharm": {
     "name": "#%%\n"
    }
   }
  },
  {
   "cell_type": "markdown",
   "source": [
    "Całkowity zysk dla powyższego rozwiązania:"
   ],
   "metadata": {
    "collapsed": false,
    "pycharm": {
     "name": "#%% md\n"
    }
   }
  },
  {
   "cell_type": "code",
   "execution_count": 5,
   "outputs": [
    {
     "name": "stdout",
     "output_type": "stream",
     "text": [
      "current_date = 2022-07-04 00:00:00, current_ingredients = 500\n",
      "event_id = 0, city = Kraków, event_start_date = 2022-07-04 00:00:00, event_end_date = 2022-07-06 00:00:00\n",
      "    day = 1, profit = 18000.0, ingredients_used = 2000.0\n",
      "    day = 2, profit = 19800.0, ingredients_used = 4200.0\n",
      "    parking cost = 500, ingredients_bought = 6000, ingredients_cost = 32040.0\n",
      "\n",
      "current_date = 2022-07-06 00:00:00, current_ingredients = 2300.0\n",
      "event_id = 1, city = Warszawa, event_start_date = 2022-07-05 00:00:00, event_end_date = 2022-07-07 00:00:00\n",
      "    day = 1, profit = 21600.0, ingredients_used = 2400.0\n",
      "    parking cost = 300, ingredients_bought = 2400, ingredients_cost = 11856.000000000002\n",
      "\n",
      "current_date = 2022-07-07 00:00:00, current_ingredients = 2300.0\n",
      "event_id = 2, city = Gdynia, event_start_date = 2022-07-06 00:00:00, event_end_date = 2022-07-08 00:00:00\n",
      "    day = 1, profit = 14400.0, ingredients_used = 1600.0\n",
      "    parking cost = 300, ingredients_bought = 1600, ingredients_cost = 8800.0\n",
      "\n",
      "current_date = 2022-07-08 00:00:00, current_ingredients = 2300.0\n",
      "event_id = 3, city = Szczecin, event_start_date = 2022-07-07 00:00:00, event_end_date = 2022-07-09 00:00:00\n",
      "    day = 1, profit = 16200.0, ingredients_used = 1800.0\n",
      "    day = 2, profit = 14400.0, ingredients_used = 3400.0\n",
      "    parking cost = 500, ingredients_bought = 5000, ingredients_cost = 24450.0\n",
      "\n",
      "Całkowity zysk: 24788.7354\n"
     ]
    }
   ],
   "source": [
    "print(f\"Całkowity zysk: {solution.overall_profit()}\")"
   ],
   "metadata": {
    "collapsed": false,
    "pycharm": {
     "name": "#%%\n"
    }
   }
  }
 ],
 "metadata": {
  "kernelspec": {
   "display_name": "Python 3",
   "language": "python",
   "name": "python3"
  },
  "language_info": {
   "codemirror_mode": {
    "name": "ipython",
    "version": 2
   },
   "file_extension": ".py",
   "mimetype": "text/x-python",
   "name": "python",
   "nbconvert_exporter": "python",
   "pygments_lexer": "ipython2",
   "version": "2.7.6"
  }
 },
 "nbformat": 4,
 "nbformat_minor": 0
}