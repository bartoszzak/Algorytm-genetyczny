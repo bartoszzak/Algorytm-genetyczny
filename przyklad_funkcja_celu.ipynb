{
 "cells": [
  {
   "cell_type": "code",
   "execution_count": 1,
   "metadata": {
    "collapsed": true,
    "pycharm": {
     "is_executing": true,
     "name": "#%%\n"
    }
   },
   "outputs": [],
   "source": [
    "from main import *\n",
    "import matplotlib.pyplot as plt\n",
    "\n",
    "random.seed(1234)"
   ]
  },
  {
   "cell_type": "markdown",
   "metadata": {
    "collapsed": false,
    "pycharm": {
     "name": "#%% md\n"
    }
   },
   "source": [
    "Wczytanie danych:"
   ]
  },
  {
   "cell_type": "code",
   "execution_count": 2,
   "metadata": {
    "collapsed": false,
    "pycharm": {
     "is_executing": true,
     "name": "#%%\n"
    }
   },
   "outputs": [
    {
     "data": {
      "text/html": [
       "<div>\n",
       "<style scoped>\n",
       "    .dataframe tbody tr th:only-of-type {\n",
       "        vertical-align: middle;\n",
       "    }\n",
       "\n",
       "    .dataframe tbody tr th {\n",
       "        vertical-align: top;\n",
       "    }\n",
       "\n",
       "    .dataframe thead th {\n",
       "        text-align: right;\n",
       "    }\n",
       "</style>\n",
       "<table border=\"1\" class=\"dataframe\">\n",
       "  <thead>\n",
       "    <tr style=\"text-align: right;\">\n",
       "      <th></th>\n",
       "      <th>event_id</th>\n",
       "      <th>city</th>\n",
       "      <th>start_date</th>\n",
       "      <th>end_date</th>\n",
       "      <th>visitors</th>\n",
       "      <th>ingredient_cost</th>\n",
       "      <th>parking_cost</th>\n",
       "    </tr>\n",
       "  </thead>\n",
       "  <tbody>\n",
       "    <tr>\n",
       "      <th>0</th>\n",
       "      <td>0</td>\n",
       "      <td>Kraków</td>\n",
       "      <td>2022-07-04</td>\n",
       "      <td>2022-07-06</td>\n",
       "      <td>10000,11000,9000</td>\n",
       "      <td>5.34</td>\n",
       "      <td>300,200,100</td>\n",
       "    </tr>\n",
       "    <tr>\n",
       "      <th>1</th>\n",
       "      <td>1</td>\n",
       "      <td>Warszawa</td>\n",
       "      <td>2022-07-05</td>\n",
       "      <td>2022-07-07</td>\n",
       "      <td>12000,30000,25000</td>\n",
       "      <td>4.94</td>\n",
       "      <td>300,200,100</td>\n",
       "    </tr>\n",
       "    <tr>\n",
       "      <th>2</th>\n",
       "      <td>2</td>\n",
       "      <td>Gdynia</td>\n",
       "      <td>2022-07-06</td>\n",
       "      <td>2022-07-08</td>\n",
       "      <td>8000,10000,13000</td>\n",
       "      <td>5.50</td>\n",
       "      <td>300,200,100</td>\n",
       "    </tr>\n",
       "    <tr>\n",
       "      <th>3</th>\n",
       "      <td>3</td>\n",
       "      <td>Szczecin</td>\n",
       "      <td>2022-07-07</td>\n",
       "      <td>2022-07-09</td>\n",
       "      <td>9000,8000,7000</td>\n",
       "      <td>4.89</td>\n",
       "      <td>300,200,100</td>\n",
       "    </tr>\n",
       "    <tr>\n",
       "      <th>4</th>\n",
       "      <td>4</td>\n",
       "      <td>Poznań</td>\n",
       "      <td>2022-07-08</td>\n",
       "      <td>2022-07-10</td>\n",
       "      <td>13000,12500,10000</td>\n",
       "      <td>5.40</td>\n",
       "      <td>300,200,100</td>\n",
       "    </tr>\n",
       "    <tr>\n",
       "      <th>5</th>\n",
       "      <td>5</td>\n",
       "      <td>Zakopane</td>\n",
       "      <td>2022-07-09</td>\n",
       "      <td>2022-07-11</td>\n",
       "      <td>7000,9000,10000</td>\n",
       "      <td>5.12</td>\n",
       "      <td>250,200,100</td>\n",
       "    </tr>\n",
       "    <tr>\n",
       "      <th>6</th>\n",
       "      <td>6</td>\n",
       "      <td>Kraków</td>\n",
       "      <td>2022-07-10</td>\n",
       "      <td>2022-07-11</td>\n",
       "      <td>12000,30000</td>\n",
       "      <td>5.05</td>\n",
       "      <td>200,100</td>\n",
       "    </tr>\n",
       "    <tr>\n",
       "      <th>7</th>\n",
       "      <td>7</td>\n",
       "      <td>Łódź</td>\n",
       "      <td>2022-07-11</td>\n",
       "      <td>2022-07-12</td>\n",
       "      <td>15000,20000</td>\n",
       "      <td>4.92</td>\n",
       "      <td>500,300</td>\n",
       "    </tr>\n",
       "    <tr>\n",
       "      <th>8</th>\n",
       "      <td>8</td>\n",
       "      <td>Bydgoszcz</td>\n",
       "      <td>2022-07-15</td>\n",
       "      <td>2022-07-17</td>\n",
       "      <td>10000,8000,12000</td>\n",
       "      <td>4.89</td>\n",
       "      <td>300,250,200</td>\n",
       "    </tr>\n",
       "    <tr>\n",
       "      <th>9</th>\n",
       "      <td>9</td>\n",
       "      <td>Toruń</td>\n",
       "      <td>2022-07-13</td>\n",
       "      <td>2022-07-14</td>\n",
       "      <td>3000,7000</td>\n",
       "      <td>4.56</td>\n",
       "      <td>300,200</td>\n",
       "    </tr>\n",
       "    <tr>\n",
       "      <th>10</th>\n",
       "      <td>10</td>\n",
       "      <td>Gdańsk</td>\n",
       "      <td>2022-07-10</td>\n",
       "      <td>2022-07-12</td>\n",
       "      <td>7000,4000,3000</td>\n",
       "      <td>5.09</td>\n",
       "      <td>400,350,250</td>\n",
       "    </tr>\n",
       "    <tr>\n",
       "      <th>11</th>\n",
       "      <td>11</td>\n",
       "      <td>Lublin</td>\n",
       "      <td>2022-07-12</td>\n",
       "      <td>2022-07-12</td>\n",
       "      <td>8000</td>\n",
       "      <td>5.12</td>\n",
       "      <td>500</td>\n",
       "    </tr>\n",
       "    <tr>\n",
       "      <th>12</th>\n",
       "      <td>12</td>\n",
       "      <td>Katowice</td>\n",
       "      <td>2022-07-08</td>\n",
       "      <td>2022-07-12</td>\n",
       "      <td>12000,13000,15000,20000,30000</td>\n",
       "      <td>4.73</td>\n",
       "      <td>500,300,250,200,150</td>\n",
       "    </tr>\n",
       "    <tr>\n",
       "      <th>13</th>\n",
       "      <td>13</td>\n",
       "      <td>Kielce</td>\n",
       "      <td>2022-07-04</td>\n",
       "      <td>2022-07-07</td>\n",
       "      <td>1000,3000,8000,7000</td>\n",
       "      <td>4.54</td>\n",
       "      <td>500,300,250,200</td>\n",
       "    </tr>\n",
       "    <tr>\n",
       "      <th>14</th>\n",
       "      <td>14</td>\n",
       "      <td>Opole</td>\n",
       "      <td>2022-07-05</td>\n",
       "      <td>2022-07-06</td>\n",
       "      <td>10000,15000</td>\n",
       "      <td>5.26</td>\n",
       "      <td>600,300</td>\n",
       "    </tr>\n",
       "    <tr>\n",
       "      <th>15</th>\n",
       "      <td>15</td>\n",
       "      <td>Zielona Góra</td>\n",
       "      <td>2022-07-04</td>\n",
       "      <td>2022-07-05</td>\n",
       "      <td>6000,7000</td>\n",
       "      <td>4.72</td>\n",
       "      <td>250,200</td>\n",
       "    </tr>\n",
       "    <tr>\n",
       "      <th>16</th>\n",
       "      <td>16</td>\n",
       "      <td>Lubin</td>\n",
       "      <td>2022-07-05</td>\n",
       "      <td>2022-07-08</td>\n",
       "      <td>6000,7000,6500,6900</td>\n",
       "      <td>4.82</td>\n",
       "      <td>300,250,200,200</td>\n",
       "    </tr>\n",
       "    <tr>\n",
       "      <th>17</th>\n",
       "      <td>17</td>\n",
       "      <td>Suwałki</td>\n",
       "      <td>2022-07-08</td>\n",
       "      <td>2022-07-10</td>\n",
       "      <td>13000,12000,8000</td>\n",
       "      <td>4.74</td>\n",
       "      <td>420,385,200</td>\n",
       "    </tr>\n",
       "    <tr>\n",
       "      <th>18</th>\n",
       "      <td>18</td>\n",
       "      <td>Piła</td>\n",
       "      <td>2022-07-10</td>\n",
       "      <td>2022-07-12</td>\n",
       "      <td>5000,4000,6000</td>\n",
       "      <td>5.19</td>\n",
       "      <td>370,300,250</td>\n",
       "    </tr>\n",
       "    <tr>\n",
       "      <th>19</th>\n",
       "      <td>19</td>\n",
       "      <td>Słupsk</td>\n",
       "      <td>2022-07-12</td>\n",
       "      <td>2022-07-12</td>\n",
       "      <td>1200</td>\n",
       "      <td>4.72</td>\n",
       "      <td>350</td>\n",
       "    </tr>\n",
       "    <tr>\n",
       "      <th>20</th>\n",
       "      <td>20</td>\n",
       "      <td>Rzeszów</td>\n",
       "      <td>2022-07-13</td>\n",
       "      <td>2022-07-13</td>\n",
       "      <td>10000</td>\n",
       "      <td>4.55</td>\n",
       "      <td>500</td>\n",
       "    </tr>\n",
       "  </tbody>\n",
       "</table>\n",
       "</div>"
      ],
      "text/plain": [
       "    event_id          city start_date   end_date  \\\n",
       "0          0        Kraków 2022-07-04 2022-07-06   \n",
       "1          1      Warszawa 2022-07-05 2022-07-07   \n",
       "2          2        Gdynia 2022-07-06 2022-07-08   \n",
       "3          3      Szczecin 2022-07-07 2022-07-09   \n",
       "4          4        Poznań 2022-07-08 2022-07-10   \n",
       "5          5      Zakopane 2022-07-09 2022-07-11   \n",
       "6          6        Kraków 2022-07-10 2022-07-11   \n",
       "7          7          Łódź 2022-07-11 2022-07-12   \n",
       "8          8     Bydgoszcz 2022-07-15 2022-07-17   \n",
       "9          9         Toruń 2022-07-13 2022-07-14   \n",
       "10        10        Gdańsk 2022-07-10 2022-07-12   \n",
       "11        11        Lublin 2022-07-12 2022-07-12   \n",
       "12        12      Katowice 2022-07-08 2022-07-12   \n",
       "13        13        Kielce 2022-07-04 2022-07-07   \n",
       "14        14         Opole 2022-07-05 2022-07-06   \n",
       "15        15  Zielona Góra 2022-07-04 2022-07-05   \n",
       "16        16         Lubin 2022-07-05 2022-07-08   \n",
       "17        17       Suwałki 2022-07-08 2022-07-10   \n",
       "18        18          Piła 2022-07-10 2022-07-12   \n",
       "19        19        Słupsk 2022-07-12 2022-07-12   \n",
       "20        20       Rzeszów 2022-07-13 2022-07-13   \n",
       "\n",
       "                         visitors  ingredient_cost         parking_cost  \n",
       "0                10000,11000,9000             5.34          300,200,100  \n",
       "1               12000,30000,25000             4.94          300,200,100  \n",
       "2                8000,10000,13000             5.50          300,200,100  \n",
       "3                  9000,8000,7000             4.89          300,200,100  \n",
       "4               13000,12500,10000             5.40          300,200,100  \n",
       "5                 7000,9000,10000             5.12          250,200,100  \n",
       "6                     12000,30000             5.05              200,100  \n",
       "7                     15000,20000             4.92              500,300  \n",
       "8                10000,8000,12000             4.89          300,250,200  \n",
       "9                       3000,7000             4.56              300,200  \n",
       "10                 7000,4000,3000             5.09          400,350,250  \n",
       "11                           8000             5.12                  500  \n",
       "12  12000,13000,15000,20000,30000             4.73  500,300,250,200,150  \n",
       "13            1000,3000,8000,7000             4.54      500,300,250,200  \n",
       "14                    10000,15000             5.26              600,300  \n",
       "15                      6000,7000             4.72              250,200  \n",
       "16            6000,7000,6500,6900             4.82      300,250,200,200  \n",
       "17               13000,12000,8000             4.74          420,385,200  \n",
       "18                 5000,4000,6000             5.19          370,300,250  \n",
       "19                           1200             4.72                  350  \n",
       "20                          10000             4.55                  500  "
      ]
     },
     "execution_count": 2,
     "metadata": {},
     "output_type": "execute_result"
    }
   ],
   "source": [
    "df = pd.read_excel(\"data/example_data.xlsx\")\n",
    "event_list = load_event_list(df)\n",
    "df"
   ]
  },
  {
   "cell_type": "markdown",
   "metadata": {
    "collapsed": false,
    "pycharm": {
     "name": "#%% md\n"
    }
   },
   "source": [
    "Wczytanie odległości między miastami:"
   ]
  },
  {
   "cell_type": "code",
   "execution_count": 3,
   "metadata": {
    "collapsed": false,
    "pycharm": {
     "is_executing": true,
     "name": "#%%\n"
    }
   },
   "outputs": [],
   "source": [
    "# distances = driving_distances(list(df['city'].unique()))\n",
    "with open('distances.json', 'r') as fp:\n",
    "    distances = json.load(fp)"
   ]
  },
  {
   "cell_type": "markdown",
   "metadata": {},
   "source": [
    "### Przykładowe wyniki działania algorytmu:"
   ]
  },
  {
   "cell_type": "code",
   "execution_count": 4,
   "metadata": {
    "pycharm": {
     "is_executing": true
    }
   },
   "outputs": [
    {
     "data": {
      "image/png": "[encoded data removed]",
      "text/plain": [
       "<Figure size 720x432 with 1 Axes>"
      ]
     },
     "metadata": {
      "needs_background": "light"
     },
     "output_type": "display_data"
    }
   ],
   "source": [
    "algorithm_settings = {\n",
    "    'selection_method' : \"tournament\",\n",
    "    'tournament_size' : 10,\n",
    "    'crossover_methods' : [\"one_point\", \"two_point\"],\n",
    "    'mutation_methods' : [\"uniform\", \"swap\", \"event_change\"],\n",
    "    'population_size' : 100,\n",
    "    'generations' : 100,\n",
    "    'parents_percent' : 15,\n",
    "    'mutation_size' : 0.15,\n",
    "}\n",
    "\n",
    "problem_settings = {\n",
    "    'start_date': datetime(2022, 7, 4),\n",
    "    'end_date': datetime(2022, 7, 15),\n",
    "    'start_city': \"Kraków\",\n",
    "    'product_price': 9.0,\n",
    "    'max_capacity': 100000,\n",
    "    'starting_ingredients': 500,\n",
    "    'visitors_coeff': 0.2,\n",
    "    'distance_coeff': 50 / 100000,\n",
    "    'capacity_punishment_coeff': 18.0,\n",
    "    'duration_punishment_coeff': 5000\n",
    "}\n",
    "\n",
    "best_solution, best_solutions_in_generations = genetic_algorithm(**algorithm_settings, **problem_settings)\n",
    "plt.figure(figsize=(10, 6))\n",
    "plt.plot(best_solutions_in_generations)\n",
    "plt.grid()\n",
    "plt.ylabel(\"Całkowity przychód\")\n",
    "plt.xlabel(\"Generacja\")\n",
    "plt.show()"
   ]
  },
  {
   "cell_type": "code",
   "execution_count": 5,
   "metadata": {
    "pycharm": {
     "is_executing": true
    }
   },
   "outputs": [
    {
     "name": "stdout",
     "output_type": "stream",
     "text": [
      "Przychód z najlepszego rozwiązania: 43377.90960000002\n",
      "\n",
      "Najlepsze rozwiązanie:\n",
      "1. event_id = 19, city = Słupsk, stay_duration = 1, ingredients_bought = 14547\n",
      "2. event_id = 1, city = Warszawa, stay_duration = 3, ingredients_bought = 5356\n",
      "3. event_id = 12, city = Katowice, stay_duration = 4, ingredients_bought = 5356\n",
      "4. event_id = 9, city = Toruń, stay_duration = 1, ingredients_bought = 14547\n",
      "5. event_id = 9, city = Toruń, stay_duration = 2, ingredients_bought = 2685\n"
     ]
    }
   ],
   "source": [
    "print(f\"Przychód z najlepszego rozwiązania: {best_solution.overall_profit()}\")\n",
    "print(f\"\\nNajlepsze rozwiązanie:\")\n",
    "for i, el in enumerate(best_solution.solution_list):\n",
    "    print(f\"{i + 1}. {el}\")"
   ]
  },
  {
   "cell_type": "code",
   "execution_count": 6,
   "metadata": {
    "pycharm": {
     "is_executing": true
    }
   },
   "outputs": [
    {
     "data": {
      "image/png": "[encoded data removed]",
      "text/plain": [
       "<Figure size 720x432 with 1 Axes>"
      ]
     },
     "metadata": {
      "needs_background": "light"
     },
     "output_type": "display_data"
    }
   ],
   "source": [
    "algorithm_settings = {\n",
    "    'selection_method' : \"tournament\",\n",
    "    'tournament_size' : 10,\n",
    "    'crossover_methods' : [\"one_point\", \"two_point\"],\n",
    "    'mutation_methods' : [\"uniform\", \"swap\", \"event_change\"],\n",
    "    'population_size' : 200,\n",
    "    'generations' : 500,\n",
    "    'parents_percent' : 15,\n",
    "    'mutation_size' : 0.15,\n",
    "}\n",
    "\n",
    "best_solution, best_solutions_in_generations = genetic_algorithm(**algorithm_settings, **problem_settings)\n",
    "plt.figure(figsize=(10, 6))\n",
    "plt.plot(best_solutions_in_generations)\n",
    "plt.grid()\n",
    "plt.ylabel(\"Całkowity przychód\")\n",
    "plt.xlabel(\"Generacja\")\n",
    "plt.show()"
   ]
  },
  {
   "cell_type": "code",
   "execution_count": 7,
   "metadata": {
    "pycharm": {
     "is_executing": true
    }
   },
   "outputs": [
    {
     "name": "stdout",
     "output_type": "stream",
     "text": [
      "Przychód z najlepszego rozwiązania: 114726.49214999999\n",
      "\n",
      "Najlepsze rozwiązanie:\n",
      "1. event_id = 1, city = Warszawa, stay_duration = 2, ingredients_bought = 15716\n",
      "2. event_id = 16, city = Lubin, stay_duration = 2, ingredients_bought = 4045\n",
      "3. event_id = 12, city = Katowice, stay_duration = 5, ingredients_bought = 6370\n",
      "4. event_id = 20, city = Rzeszów, stay_duration = 1, ingredients_bought = 2579\n"
     ]
    }
   ],
   "source": [
    "print(f\"Przychód z najlepszego rozwiązania: {best_solution.overall_profit()}\")\n",
    "print(f\"\\nNajlepsze rozwiązanie:\")\n",
    "for i, el in enumerate(best_solution.solution_list):\n",
    "    print(f\"{i + 1}. {el}\")"
   ]
  },
  {
   "cell_type": "code",
   "execution_count": 8,
   "metadata": {
    "pycharm": {
     "is_executing": true
    }
   },
   "outputs": [
    {
     "data": {
      "image/png": "[encoded data removed]",
      "text/plain": [
       "<Figure size 720x432 with 1 Axes>"
      ]
     },
     "metadata": {
      "needs_background": "light"
     },
     "output_type": "display_data"
    }
   ],
   "source": [
    "algorithm_settings = {\n",
    "    'selection_method' : \"tournament\",\n",
    "    'tournament_size' : 10,\n",
    "    'crossover_methods' : [\"one_point\", \"two_point\"],\n",
    "    'mutation_methods' : [\"uniform\", \"swap\", \"event_change\"],\n",
    "    'population_size' : 1000,\n",
    "    'generations' : 50,\n",
    "    'parents_percent' : 20,\n",
    "    'mutation_size' : 0.10,\n",
    "}\n",
    "\n",
    "best_solution, best_solutions_in_generations = genetic_algorithm(**algorithm_settings, **problem_settings)\n",
    "plt.figure(figsize=(10, 6))\n",
    "plt.plot(best_solutions_in_generations)\n",
    "plt.grid()\n",
    "plt.ylabel(\"Całkowity przychód\")\n",
    "plt.xlabel(\"Generacja\")\n",
    "plt.show()"
   ]
  },
  {
   "cell_type": "code",
   "execution_count": 9,
   "metadata": {
    "pycharm": {
     "is_executing": true
    }
   },
   "outputs": [
    {
     "name": "stdout",
     "output_type": "stream",
     "text": [
      "Przychód z najlepszego rozwiązania: 103959.86459999997\n",
      "\n",
      "Najlepsze rozwiązanie:\n",
      "1. event_id = 0, city = Kraków, stay_duration = 1, ingredients_bought = 3831\n",
      "2. event_id = 14, city = Opole, stay_duration = 1, ingredients_bought = 4145\n",
      "3. event_id = 1, city = Warszawa, stay_duration = 1, ingredients_bought = 4145\n",
      "4. event_id = 1, city = Warszawa, stay_duration = 1, ingredients_bought = 4145\n",
      "5. event_id = 12, city = Katowice, stay_duration = 5, ingredients_bought = 9792\n"
     ]
    }
   ],
   "source": [
    "print(f\"Przychód z najlepszego rozwiązania: {best_solution.overall_profit()}\")\n",
    "print(f\"\\nNajlepsze rozwiązanie:\")\n",
    "for i, el in enumerate(best_solution.solution_list):\n",
    "    print(f\"{i + 1}. {el}\")"
   ]
  },
  {
   "cell_type": "code",
   "execution_count": 10,
   "metadata": {},
   "outputs": [
    {
     "data": {
      "image/png": "[encoded data removed]",
      "text/plain": [
       "<Figure size 720x432 with 1 Axes>"
      ]
     },
     "metadata": {
      "needs_background": "light"
     },
     "output_type": "display_data"
    }
   ],
   "source": [
    "algorithm_settings = {\n",
    "    'selection_method' : \"tournament\",\n",
    "    'tournament_size' : 100,\n",
    "    'crossover_methods' : [\"one_point\", \"two_point\"],\n",
    "    'mutation_methods' : [\"uniform\", \"swap\", \"event_change\"],\n",
    "    'population_size' : 1000,\n",
    "    'generations' : 500,\n",
    "    'parents_percent' : 30,\n",
    "    'mutation_size' : 0.30,\n",
    "}\n",
    "\n",
    "best_solution, best_solutions_in_generations = genetic_algorithm(**algorithm_settings, **problem_settings)\n",
    "plt.figure(figsize=(10, 6))\n",
    "plt.plot(best_solutions_in_generations)\n",
    "plt.grid()\n",
    "plt.ylabel(\"Całkowity przychód\")\n",
    "plt.xlabel(\"Generacja\")\n",
    "plt.show()"
   ]
  },
  {
   "cell_type": "code",
   "execution_count": 11,
   "metadata": {},
   "outputs": [
    {
     "name": "stdout",
     "output_type": "stream",
     "text": [
      "Przychód z najlepszego rozwiązania: 136695.52909999999\n",
      "\n",
      "Najlepsze rozwiązanie:\n",
      "1. event_id = 0, city = Kraków, stay_duration = 1, ingredients_bought = 1572\n",
      "2. event_id = 1, city = Warszawa, stay_duration = 3, ingredients_bought = 19904\n",
      "3. event_id = 12, city = Katowice, stay_duration = 5, ingredients_bought = 11532\n"
     ]
    }
   ],
   "source": [
    "print(f\"Przychód z najlepszego rozwiązania: {best_solution.overall_profit()}\")\n",
    "print(f\"\\nNajlepsze rozwiązanie:\")\n",
    "for i, el in enumerate(best_solution.solution_list):\n",
    "    print(f\"{i + 1}. {el}\")"
   ]
  },
  {
   "cell_type": "code",
   "execution_count": null,
   "metadata": {},
   "outputs": [],
   "source": []
  }
 ],
 "metadata": {
  "kernelspec": {
   "display_name": "Python 3 (ipykernel)",
   "language": "python",
   "name": "python3"
  },
  "language_info": {
   "codemirror_mode": {
    "name": "ipython",
    "version": 3
   },
   "file_extension": ".py",
   "mimetype": "text/x-python",
   "name": "python",
   "nbconvert_exporter": "python",
   "pygments_lexer": "ipython3",
   "version": "3.8.10"
  }
 },
 "nbformat": 4,
 "nbformat_minor": 0
}
